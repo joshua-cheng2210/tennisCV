{
 "cells": [
  {
   "cell_type": "markdown",
   "metadata": {},
   "source": [
    "we are gonig to run this code through kaggle's GPU (unless you have a local GPU) "
   ]
  },
  {
   "cell_type": "code",
   "execution_count": null,
   "metadata": {},
   "outputs": [],
   "source": [
    "# !pip install roboflow \n",
    "# !pip install ultralytics               "
   ]
  },
  {
   "cell_type": "markdown",
   "metadata": {},
   "source": [
    "### downloading the dataset from roboflow"
   ]
  },
  {
   "cell_type": "code",
   "execution_count": null,
   "metadata": {},
   "outputs": [
    {
     "name": "stdout",
     "output_type": "stream",
     "text": [
      "loading Roboflow workspace...\n",
      "loading Roboflow project...\n"
     ]
    },
    {
     "name": "stderr",
     "output_type": "stream",
     "text": [
      "Downloading Dataset Version Zip in tennis-ball-detection-6 to yolov8:: 100%|██████████| 52040/52040 [00:02<00:00, 17517.39it/s]"
     ]
    },
    {
     "name": "stdout",
     "output_type": "stream",
     "text": [
      "\n"
     ]
    },
    {
     "name": "stderr",
     "output_type": "stream",
     "text": [
      "\n",
      "Extracting Dataset Version Zip to tennis-ball-detection-6 in yolov8:: 100%|██████████| 1168/1168 [00:02<00:00, 462.10it/s]\n"
     ]
    }
   ],
   "source": [
    "from roboflow import Roboflow\n",
    "from config import roboflow_api_key\n",
    "rf = Roboflow(api_key=roboflow_api_key)\n",
    "project = rf.workspace(\"viren-dhanwani\").project(\"tennis-ball-detection\")\n",
    "version = project.version(6)\n",
    "dataset = version.download(\"yolov8\")\n",
    "                "
   ]
  },
  {
   "cell_type": "code",
   "execution_count": 9,
   "metadata": {},
   "outputs": [],
   "source": [
    "# import torch\n",
    "# print(torch.cuda.is_available())\n",
    "# print(torch.cuda.device_count())\n",
    "# print(torch.cuda.get_device_name(0) if torch.cuda.is_available() else \"No GPU found\")"
   ]
  },
  {
   "cell_type": "markdown",
   "metadata": {},
   "source": [
    "### reorganizing the dataset"
   ]
  },
  {
   "cell_type": "code",
   "execution_count": 12,
   "metadata": {},
   "outputs": [
    {
     "data": {
      "text/plain": [
       "'tennis-ball-detection-6/tennis-ball-detection-6/valid'"
      ]
     },
     "execution_count": 12,
     "metadata": {},
     "output_type": "execute_result"
    }
   ],
   "source": [
    "# import shutil\n",
    "# shutil.move(\"tennis-ball-detection-6/train\", \"tennis-ball-detection-6/tennis-ball-detection-6/train\")\n",
    "# shutil.move(\"tennis-ball-detection-6/test\", \"tennis-ball-detection-6/tennis-ball-detection-6/test\")\n",
    "# shutil.move(\"tennis-ball-detection-6/valid\", \"tennis-ball-detection-6/tennis-ball-detection-6/valid\")"
   ]
  },
  {
   "cell_type": "markdown",
   "metadata": {},
   "source": [
    "### training a model to reconize the tennis ball\n",
    "- this is the part where you need kaggle's GPU to train the moedl weights. \n",
    "- you will be offerred to use 2 GPUs. T4 or P100.\n",
    "- learn the differences here https://www.kaggle.com/discussions/getting-started/561774"
   ]
  },
  {
   "cell_type": "code",
   "execution_count": null,
   "metadata": {},
   "outputs": [],
   "source": [
    "import os\n",
    "os.environ[\"KMP_DUPLICATE_LIB_OK\"] = \"TRUE\"\n",
    "\n",
    "from ultralytics import YOLO\n",
    "# data_yaml_path = fr\"{dataset.location}/data.yaml\" # note that if you use google colab you gotta use fr\"{dataset.location}/data.yaml\"\n",
    "# data_yaml_path = fr\"tennis-ball-detection-6\\data.yaml\"\n",
    "data_yaml_path = os.path.join(dataset.location, \"data.yaml\")\n",
    "print(\"data_yaml_path --> \", data_yaml_path)\n",
    "\n",
    "model = YOLO(\"yolov8n.pt\")\n",
    "# print(\"model\\n\\n\")\n",
    "# print(model)\n",
    "\n",
    "# Train the model\n",
    "# args: \n",
    "# patience: number of epochs that doesn't result to an improvement of validation performance before stopping further training\n",
    "# resume: continue training from the last checkpoint\n",
    "# epochs: number of epochs to train\n",
    "model.train(data=data_yaml_path, epochs=120, imgsz=640, batch=16, patience=10) \n",
    "\n",
    "# !yolo task=detect mode=train model=yolov8x.pt data=data_yaml_path epochs=120 imgsz=640 # this is the YOLO command line version of the above code\n",
    "\n",
    "\n"
   ]
  }
 ],
 "metadata": {
  "kernelspec": {
   "display_name": "base",
   "language": "python",
   "name": "python3"
  },
  "language_info": {
   "codemirror_mode": {
    "name": "ipython",
    "version": 3
   },
   "file_extension": ".py",
   "mimetype": "text/x-python",
   "name": "python",
   "nbconvert_exporter": "python",
   "pygments_lexer": "ipython3",
   "version": "3.12.7"
  }
 },
 "nbformat": 4,
 "nbformat_minor": 2
}
