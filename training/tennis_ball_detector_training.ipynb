{
 "cells": [
  {
   "cell_type": "markdown",
   "metadata": {},
   "source": [
    "we are gonig to run this code through kaggle's GPU (unless you have a local GPU) "
   ]
  },
  {
   "cell_type": "code",
   "execution_count": null,
   "metadata": {},
   "outputs": [],
   "source": [
    "import os\n",
    "\n",
    "kaggle = False\n",
    "if os.path.exists('/kaggle'):\n",
    "    print(\"Running on Kaggle!\")\n",
    "    kaggle = True\n",
    "else:\n",
    "    print(\"Not running on Kaggle.\")\n",
    "\n",
    "# this is not python. the \"!\" or \"%\" indicates the code to be run in the terminal\n",
    "if kaggle:\n",
    "    !pip install roboflow\n",
    "    !pip install ultralytics\n",
    "else:\n",
    "    %pip install roboflow --user\n",
    "    %pip install ultralytics --user\n",
    "    %pip install torch --user\n"
   ]
  },
  {
   "cell_type": "markdown",
   "metadata": {},
   "source": [
    "### downloading the dataset from roboflow"
   ]
  },
  {
   "cell_type": "code",
   "execution_count": null,
   "metadata": {},
   "outputs": [],
   "source": [
    "# importing the relevant libraries\n",
    "from ultralytics import YOLO\n",
    "from roboflow import Roboflow\n",
    "\n",
    "# initializing\n",
    "YOLO_version = \"yolov11x\"\n",
    "model = \"\"\n",
    "input_img = \"\"\n",
    "input_video = \"\"\n",
    "\n",
    "if kaggle:\n",
    "    model = YOLO(YOLO_version)\n",
    "\n",
    "    input_img = \"/kaggle/input/inputs/image.png\"\n",
    "    input_video = \"/kaggle/input/inputs/input_video.mp4\"\n",
    "else:\n",
    "    # there are different models.\n",
    "    # v8 or additional numbers probably means later versions\n",
    "    # n: Nano, s: Small, m: medium, l: large, x: extra-large --> each of this means more accurate but will take longer to train and you're computer may not handle\n",
    "    model = YOLO(YOLO_version)\n",
    "    input_img = \"input_videos/image.png\"\n",
    "    input_video = \"input_videos/input_video.mp4\"\n"
   ]
  },
  {
   "cell_type": "code",
   "execution_count": null,
   "metadata": {},
   "outputs": [],
   "source": [
    "# getting training data from Roboflow\n",
    "rf = Roboflow(api_key=\"oz1okU9tYkM3HVkL7EIo\")\n",
    "project = rf.workspace(\"viren-dhanwani\").project(\"tennis-ball-detection\")\n",
    "version = project.version(6)\n",
    "dataset = version.download(YOLO_version)\n",
    "data_yaml_path = os.path.join(dataset.location, \"data.yaml\")"
   ]
  },
  {
   "cell_type": "markdown",
   "metadata": {},
   "source": [
    "### training a model to reconize the tennis ball\n",
    "- this is the part where you need kaggle's GPU to train the moedl weights. \n",
    "- you will be offerred to use 2 GPUs. T4 or P100.\n",
    "- learn the differences here https://www.kaggle.com/discussions/getting-started/561774"
   ]
  },
  {
   "cell_type": "code",
   "execution_count": null,
   "metadata": {},
   "outputs": [],
   "source": [
    "# Train the model\n",
    "# args: \n",
    "# patience: number of epochs that doesn't result to an improvement of validation performance before stopping further training\n",
    "# resume: continue training from the last checkpoint\n",
    "# epochs: number of epochs to train\n",
    "model.train(data=data_yaml_path, epochs=120, imgsz=640, batch=16, patience=10) \n",
    "\n",
    "# !yolo task=detect mode=train model=yolov8x.pt data=data_yaml_path epochs=120 imgsz=640 # this is the YOLO command line version of the above code\n",
    "\n",
    "\n",
    "\n"
   ]
  },
  {
   "cell_type": "code",
   "execution_count": null,
   "metadata": {},
   "outputs": [],
   "source": [
    "# just reorganizing the training data (because we are going to train to detect more objects later)\n",
    "import shutil\n",
    "shutil.move(\"tennis-ball-detection-6/train\", \"tennis-ball-detection-6/tennis-ball-detection-6/train\")\n",
    "shutil.move(\"tennis-ball-detection-6/test\", \"tennis-ball-detection-6/tennis-ball-detection-6/test\")\n",
    "shutil.move(\"tennis-ball-detection-6/valid\", \"tennis-ball-detection-6/tennis-ball-detection-6/valid\")"
   ]
  }
 ],
 "metadata": {
  "kernelspec": {
   "display_name": "base",
   "language": "python",
   "name": "python3"
  },
  "language_info": {
   "codemirror_mode": {
    "name": "ipython",
    "version": 3
   },
   "file_extension": ".py",
   "mimetype": "text/x-python",
   "name": "python",
   "nbconvert_exporter": "python",
   "pygments_lexer": "ipython3",
   "version": "3.12.7"
  }
 },
 "nbformat": 4,
 "nbformat_minor": 2
}
