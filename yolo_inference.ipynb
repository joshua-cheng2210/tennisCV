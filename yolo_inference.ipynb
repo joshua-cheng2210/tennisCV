{
 "cells": [
  {
   "cell_type": "markdown",
   "metadata": {},
   "source": [
    "# tennis Computer Vision Project"
   ]
  },
  {
   "cell_type": "code",
   "execution_count": null,
   "metadata": {},
   "outputs": [],
   "source": [
    "import os\n",
    "\n",
    "kaggle = False\n",
    "if os.path.exists('/kaggle'):\n",
    "    print(\"Running on Kaggle!\")\n",
    "    kaggle = True\n",
    "else:\n",
    "    print(\"Not running on Kaggle.\")\n",
    "\n",
    "# this is not python. the \"!\" or \"%\" indicates the code to be run in the terminal\n",
    "if kaggle:\n",
    "    !pip install roboflow\n",
    "    !pip install ultralytics\n",
    "else:\n",
    "    %pip install roboflow --user\n",
    "    %pip install ultralytics --user\n",
    "    %pip install torch --user\n"
   ]
  },
  {
   "cell_type": "code",
   "execution_count": null,
   "metadata": {},
   "outputs": [],
   "source": [
    "# importing the relevant libraries\n",
    "from ultralytics import YOLO\n",
    "from roboflow import Roboflow\n",
    "\n",
    "# initializing\n",
    "# use \"yolov8x.pt\" for a decently accurate and fast model for your kaggle GPU\n",
    "YOLO_version = \"yolov8\"\n",
    "size = \"x\"\n",
    "YOLO_model_pt = f\"{YOLO_version}{size}.pt\"\n",
    "YOLO_model = f\"{YOLO_version}\"\n",
    "\n",
    "model = \"\"\n",
    "tennisBallModel = \"\"\n",
    "input_img = \"\"\n",
    "input_video = \"\"\n",
    "\n",
    "if kaggle:\n",
    "    model = YOLO(YOLO_model_pt)\n",
    "    tennisBallModel = YOLO(\"/kaggle/input/selftrained_tennisball_best/other/default/1/selfTrained_TennisBall_best.pt\")\n",
    "\n",
    "    input_img = \"/kaggle/input/inputs/image.png\"\n",
    "    input_video = \"/kaggle/input/inputs/input_video.mp4\"\n",
    "else:\n",
    "    # there are different models.\n",
    "    # v8 or additional numbers probably means later versions\n",
    "    # n: Nano, s: Small, m: medium, l: large, x: extra-large --> each of this means more accurate but will take longer to train and you're computer may not handle\n",
    "    model = YOLO(YOLO_model_pt)\n",
    "    tennisBallModel = YOLO(\"models/selfTrained_TennisBall_best.pt\") # run the training/tennis_ball_detector_training.ipynb\n",
    "    input_img = \"input_videos/image.png\"\n",
    "    input_video = \"input_videos/input_video.mp4\"\n"
   ]
  },
  {
   "cell_type": "markdown",
   "metadata": {},
   "source": [
    "## using a pretrained model to predict"
   ]
  },
  {
   "cell_type": "code",
   "execution_count": null,
   "metadata": {},
   "outputs": [],
   "source": [
    "\n",
    "result = model.predict(input_img, save=True, name = \"pretrainedModel_predict\") # you can choose to predict on a video or an image\n",
    "# print(\"printing results\\n\\n\")\n",
    "# print(result)\n",
    "\n",
    "# now let's try predicting on a video\n",
    "result = model.predict(input_video, save=True, name = \"pretrainedModel_predict\")\n",
    "# print(\"printing results\\n\\n\")\n",
    "# print(result)\n",
    "# so as you can realize from the output video, the model is not able to detect the tennis ball msot of the time\n",
    "# lets try to train out own model for it\n",
    "# training code in training\\tennis_ball_detector_training.ipynb"
   ]
  },
  {
   "cell_type": "markdown",
   "metadata": {},
   "source": [
    "### code to train our own model is in localComputer::training\\tennis_ball_detector_training.ipynb.\n",
    "\n",
    "### run that notebook to get the new weights before proceeding to the next step for evaluation."
   ]
  },
  {
   "cell_type": "code",
   "execution_count": null,
   "metadata": {},
   "outputs": [],
   "source": [
    "result = tennisBallModel.predict(input_img, conf=0.2, save=True, name=\"tennisBallModel_predict\")\n",
    "result = tennisBallModel.predict(input_video, conf=0.2, save=True, name=\"tennisBallModel_predict\")"
   ]
  },
  {
   "cell_type": "markdown",
   "metadata": {},
   "source": [
    "## tracking objects from one frame in a video to another with YOLO"
   ]
  },
  {
   "cell_type": "code",
   "execution_count": null,
   "metadata": {},
   "outputs": [],
   "source": [
    "result = tennisBallModel.track(\"input_videos/input_video.mp4\", save=True, name=\"tennisball_track\")\n",
    "result = model.track(\"input_videos/input_video.mp4\", save=True, name=\"tennis_track\")\n"
   ]
  }
 ],
 "metadata": {
  "kernelspec": {
   "display_name": "base",
   "language": "python",
   "name": "python3"
  },
  "language_info": {
   "codemirror_mode": {
    "name": "ipython",
    "version": 3
   },
   "file_extension": ".py",
   "mimetype": "text/x-python",
   "name": "python",
   "nbconvert_exporter": "python",
   "pygments_lexer": "ipython3",
   "version": "3.12.7"
  }
 },
 "nbformat": 4,
 "nbformat_minor": 2
}
